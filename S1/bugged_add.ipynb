{
  "nbformat": 4,
  "nbformat_minor": 0,
  "metadata": {
    "colab": {
      "provenance": [],
      "gpuType": "T4"
    },
    "kernelspec": {
      "name": "python3",
      "display_name": "Python 3"
    },
    "accelerator": "GPU"
  },
  "cells": [
    {
      "cell_type": "markdown",
      "metadata": {
        "id": "pumkepYMMsms"
      },
      "source": [
        "# Raw code"
      ]
    },
    {
      "cell_type": "code",
      "metadata": {
        "id": "BPJbeZDPyP8l",
        "colab": {
          "base_uri": "https://localhost:8080/"
        },
        "outputId": "ab7c9d82-2f4a-435c-828b-ad0d398a7fc3"
      },
      "source": [
        "%%writefile raw_add.cu\n",
        "#include <stdio.h>\n",
        "#include <stdlib.h>\n",
        "\n",
        "__global__ void add(int a, int b, int *res) {\n",
        "  *res = a + b;\n",
        "}\n",
        "\n",
        "\n",
        "int main() {\n",
        "  int res=0;\n",
        "  int *d_res = NULL;\n",
        "\n",
        "  // Launch add() kernel on GPU\n",
        "  add<<<1,1>>>(2, 2, d_res);\n",
        "\n",
        "  cudaMemcpy(&res, d_res, sizeof(int), cudaMemcpyDeviceToHost);\n",
        "  printf(\"2 + 2 = %d\\n\", res);\n",
        "\n",
        "  return EXIT_SUCCESS;\n",
        "}"
      ],
      "execution_count": 1,
      "outputs": [
        {
          "output_type": "stream",
          "name": "stdout",
          "text": [
            "Writing raw_add.cu\n"
          ]
        }
      ]
    },
    {
      "cell_type": "code",
      "source": [
        "!nvcc raw_add.cu -o raw_add"
      ],
      "metadata": {
        "id": "_9O0k9r8jrpy"
      },
      "execution_count": 2,
      "outputs": []
    },
    {
      "cell_type": "code",
      "source": [
        "!./raw_add"
      ],
      "metadata": {
        "colab": {
          "base_uri": "https://localhost:8080/"
        },
        "id": "s23SzGZE8nVI",
        "outputId": "36ffe72a-8936-4ad8-e0d0-05c6f2fd4cb6"
      },
      "execution_count": 3,
      "outputs": [
        {
          "output_type": "stream",
          "name": "stdout",
          "text": [
            "2 + 2 = 0\n"
          ]
        }
      ]
    },
    {
      "cell_type": "markdown",
      "source": [
        "# Debugging"
      ],
      "metadata": {
        "id": "-jnJMpwBq9nO"
      }
    },
    {
      "cell_type": "code",
      "source": [
        "%%writefile add.cu\n",
        "#include <stdio.h>\n",
        "#include <stdlib.h>\n",
        "\n",
        "__global__ void add(int a, int b, int *res) {\n",
        "  *res = a + b;\n",
        "}\n",
        "int main() {\n",
        "  int res=0;\n",
        "  int *d_res = NULL;\n",
        "\n",
        "  // Launch add() kernel on GPU\n",
        "  add<<<1,1>>>(2, 2, d_res);\n",
        "\n",
        "  cudaMemcpy(&res, d_res, sizeof(int), cudaMemcpyDeviceToHost);\n",
        "  printf(\"2 + 2 = %d\\n\", res);\n",
        "\n",
        "  return EXIT_SUCCESS;\n",
        "}"
      ],
      "metadata": {
        "colab": {
          "base_uri": "https://localhost:8080/"
        },
        "id": "tede2oIE68ao",
        "outputId": "2a55ce87-dd47-4aaf-e24a-b88d2683812a"
      },
      "execution_count": 4,
      "outputs": [
        {
          "output_type": "stream",
          "name": "stdout",
          "text": [
            "Writing add.cu\n"
          ]
        }
      ]
    },
    {
      "cell_type": "code",
      "source": [
        "! nvcc -g -G add.cu -o add"
      ],
      "metadata": {
        "id": "Ic6RU__w9Z_Y"
      },
      "execution_count": 5,
      "outputs": []
    },
    {
      "cell_type": "markdown",
      "source": [
        "**Debugging file**\n",
        "\n",
        "cuda-gdb is interactive (you are expected to type commands as you go along), but running programs in the Colab environnement is not. Typical commands would go like this:\n",
        "1. set the debugger up to check lots of possible errors:\n",
        "    1. stop in case of API failures: api_failures stop,\n",
        "    2. stop on exceptions: catch throw,\n",
        "2. run the program (possibly with command line options): r option1 option2,\n",
        "3. show the kernel call stack (GPU): bt,\n",
        "4. print all local variables: info locals,\n",
        "5. switch to the host thread: thread 1\n",
        "6. and show the host program call stack (CPU): bt"
      ],
      "metadata": {
        "id": "aHeyTGb7Ph4e"
      }
    },
    {
      "cell_type": "code",
      "source": [
        "%%writefile debug_instructions.txt\n",
        "\n",
        "set cuda api_failures stop\n",
        "catch throw\n",
        "r\n",
        "bt\n",
        "info locals\n",
        "thread 1\n",
        "bt"
      ],
      "metadata": {
        "colab": {
          "base_uri": "https://localhost:8080/"
        },
        "id": "enNGCLae-EPy",
        "outputId": "0e62c9b7-2307-47fc-d2c6-dbccfd87f1d5"
      },
      "execution_count": 6,
      "outputs": [
        {
          "output_type": "stream",
          "name": "stdout",
          "text": [
            "Writing debug_instructions.txt\n"
          ]
        }
      ]
    },
    {
      "cell_type": "code",
      "source": [
        "! cuda-gdb -batch -x debug_instructions.txt ./add"
      ],
      "metadata": {
        "colab": {
          "base_uri": "https://localhost:8080/"
        },
        "id": "M4i1d0EG--k2",
        "outputId": "4300ebf6-5f6e-46dd-f6ab-957cec65f0e5"
      },
      "execution_count": 7,
      "outputs": [
        {
          "output_type": "stream",
          "name": "stdout",
          "text": [
            "Catchpoint 1 (throw)\n",
            "[Thread debugging using libthread_db enabled]\n",
            "Using host libthread_db library \"/lib/x86_64-linux-gnu/libthread_db.so.1\".\n",
            "[New Thread 0x7ffff5fff000 (LWP 1339)]\n",
            "[New Thread 0x7ffff4bff000 (LWP 1342)]\n",
            "[Detaching after fork from child process 1343]\n",
            "[New Thread 0x7fffeefde000 (LWP 1348)]\n",
            "Cuda API error detected: cudaLaunchKernel returned (0xde)\n",
            "#0  0x00007ffff61ad970 in cudbgReportDriverApiError () from /usr/lib64-nvidia/libcuda.so.1\n",
            "#1  0x00007ffff642b32b in ?? () from /usr/lib64-nvidia/libcuda.so.1\n",
            "#2  0x00007ffff4d54ba7 in ?? () from /usr/lib64-nvidia/libcudadebugger.so.1\n",
            "#3  0x00007ffff4d31b2e in ?? () from /usr/lib64-nvidia/libcudadebugger.so.1\n",
            "#4  0x00007ffff4d42fda in ?? () from /usr/lib64-nvidia/libcudadebugger.so.1\n",
            "#5  0x00007ffff4d280d7 in ?? () from /usr/lib64-nvidia/libcudadebugger.so.1\n",
            "#6  0x00007ffff4e9e526 in ?? () from /usr/lib64-nvidia/libcudadebugger.so.1\n",
            "#7  0x00007ffff6442066 in ?? () from /usr/lib64-nvidia/libcuda.so.1\n",
            "#8  0x00005555555c82f8 in cudaLaunchKernel ()\n",
            "#9  0x000055555555efcb in cudaLaunchKernel<char> (func=0x55555555ee8d <add(int, int, int*)> \"\\363\\017\\036\\372UH\\211\\345H\\203\\354\\020\\211}\\374\\211u\\370H\\211U\\360H\\213U\\360\\213M\\370\\213E\\374\\211Ή\\307\\350\\207\\376\\377\\377\\220\\311\\303\\363\\017\\036\\372UH\\211\\345H\\203\\354\\020H\\211}\\370H\\213E\\370H\\211\\005\\fb\\n\", gridDim=..., blockDim=..., args=0x7fffffffd5f0, sharedMem=0, stream=0x0) at /usr/local/cuda/bin/../targets/x86_64-linux/include/cuda_runtime.h:216\n",
            "#10 0x000055555555ee73 in __device_stub__Z3addiiPi (__par0=2, __par1=2, __par2=0x0) at /tmp/tmpxft_000004ee_00000000-6_add.cudafe1.stub.c:13\n",
            "#11 0x000055555555eeb6 in add (__cuda_0=2, __cuda_1=2, __cuda_2=0x0) at /content/add.cu:4\n",
            "#12 0x000055555555ec8f in main () at /content/add.cu:12\n",
            "No symbol table info available.\n",
            "[Switching to thread 1 (Thread 0x7ffff7d79000 (LWP 1333))]\n",
            "#0  0x00007ffff61ad970 in cudbgReportDriverApiError () from /usr/lib64-nvidia/libcuda.so.1\n",
            "#0  0x00007ffff61ad970 in cudbgReportDriverApiError () from /usr/lib64-nvidia/libcuda.so.1\n",
            "#1  0x00007ffff642b32b in ?? () from /usr/lib64-nvidia/libcuda.so.1\n",
            "#2  0x00007ffff4d54ba7 in ?? () from /usr/lib64-nvidia/libcudadebugger.so.1\n",
            "#3  0x00007ffff4d31b2e in ?? () from /usr/lib64-nvidia/libcudadebugger.so.1\n",
            "#4  0x00007ffff4d42fda in ?? () from /usr/lib64-nvidia/libcudadebugger.so.1\n",
            "#5  0x00007ffff4d280d7 in ?? () from /usr/lib64-nvidia/libcudadebugger.so.1\n",
            "#6  0x00007ffff4e9e526 in ?? () from /usr/lib64-nvidia/libcudadebugger.so.1\n",
            "#7  0x00007ffff6442066 in ?? () from /usr/lib64-nvidia/libcuda.so.1\n",
            "#8  0x00005555555c82f8 in cudaLaunchKernel ()\n",
            "#9  0x000055555555efcb in cudaLaunchKernel<char> (func=0x55555555ee8d <add(int, int, int*)> \"\\363\\017\\036\\372UH\\211\\345H\\203\\354\\020\\211}\\374\\211u\\370H\\211U\\360H\\213U\\360\\213M\\370\\213E\\374\\211Ή\\307\\350\\207\\376\\377\\377\\220\\311\\303\\363\\017\\036\\372UH\\211\\345H\\203\\354\\020H\\211}\\370H\\213E\\370H\\211\\005\\fb\\n\", gridDim=..., blockDim=..., args=0x7fffffffd5f0, sharedMem=0, stream=0x0) at /usr/local/cuda/bin/../targets/x86_64-linux/include/cuda_runtime.h:216\n",
            "#10 0x000055555555ee73 in __device_stub__Z3addiiPi (__par0=2, __par1=2, __par2=0x0) at /tmp/tmpxft_000004ee_00000000-6_add.cudafe1.stub.c:13\n",
            "#11 0x000055555555eeb6 in add (__cuda_0=2, __cuda_1=2, __cuda_2=0x0) at /content/add.cu:4\n",
            "#12 0x000055555555ec8f in main () at /content/add.cu:12\n"
          ]
        }
      ]
    },
    {
      "cell_type": "markdown",
      "source": [
        "**Analysis**\n",
        "\n",
        "Cause: CUDA program crashes because cudaLaunchKernel encounters an error (0xde).\n",
        "\n",
        "Step by step:\n",
        "\n",
        "\n",
        "1. An invalid CUDA operation was attempted:\n",
        "```\n",
        "Cuda API error detected: cudaLaunchKernel returned (0xde)\n",
        "```\n",
        "2. The error trace shows a call to cudaLaunchKernel, which internally tries to launch your kernel (add) but fails:\n",
        "```\n",
        "add (__cuda_0=2, __cuda_1=2, __cuda_2=0x0) at /content/add.cu:4\n",
        "```\n",
        "this line suggests that the third argument (the pointer `c`) is `0x0` (NULL), meaning it was not properly allocated."
      ],
      "metadata": {
        "id": "Hn4IUayhOIpc"
      }
    },
    {
      "cell_type": "markdown",
      "metadata": {
        "id": "Pc5oZhKdV4ik"
      },
      "source": [
        "# Code with error management"
      ]
    },
    {
      "cell_type": "code",
      "metadata": {
        "colab": {
          "base_uri": "https://localhost:8080/"
        },
        "id": "1J3RTPQ1WI6l",
        "outputId": "cebc623d-0014-4af5-a808-5495bb82b441"
      },
      "source": [
        "%%writefile add.cu\n",
        "#include <stdio.h>\n",
        "#include <stdlib.h>\n",
        "\n",
        "__global__ void add(int a, int b, int *res) {\n",
        "  *res = a + b;\n",
        "}\n",
        "\n",
        "\n",
        "int main() {\n",
        "  int res=0;\n",
        "  int *d_res = NULL;\n",
        "  cudaError_t err;\n",
        "\n",
        "  // Launch add() kernel on GPU\n",
        "  add<<<1,1>>>(2, 2, d_res);\n",
        "  err = cudaPeekAtLastError();\n",
        "  if (err != cudaSuccess){\n",
        "      fprintf(stderr,\"GPUassert: add launch failed with the error : %s \\n\", cudaGetErrorString(err));\n",
        "      exit(err);\n",
        "   }\n",
        "  err = cudaDeviceSynchronize() ;\n",
        "  if (err != cudaSuccess){\n",
        "      fprintf(stderr,\"GPUassert: add execution failed with the error : %s \\n\", cudaGetErrorString(err));\n",
        "      exit(err);\n",
        "  }\n",
        "\n",
        "  err = cudaMemcpy(&res, d_res, sizeof(int), cudaMemcpyDeviceToHost);\n",
        "  if (err != cudaSuccess){\n",
        "      fprintf(stderr,\"GPUassert: cudaMemcpy failed with the error : %s \\n\", cudaGetErrorString(err));\n",
        "      exit(err);\n",
        "   }\n",
        "\n",
        "  printf(\"2 + 2 = %d\\n\", res);\n",
        "\n",
        "  return EXIT_SUCCESS;\n",
        "}"
      ],
      "execution_count": 8,
      "outputs": [
        {
          "output_type": "stream",
          "name": "stdout",
          "text": [
            "Overwriting add.cu\n"
          ]
        }
      ]
    },
    {
      "cell_type": "markdown",
      "source": [
        "This code:\n",
        "- Checks for invalid kernel launch argument with the error code of `cudaPeekAtLastError`\n",
        "- check if errors occurred during the kernel execution thanks to the error code of `cudaDeviceSynchronize`\n",
        "\n",
        "Note: `cudaMemcpy` can be used as synchronization primitive (the `cudaDeviceSynchronize` would be in duplicate then). Then the `cudaMemcpy` call can return either errors which occurred during the kernel execution or those from the memory copy itself."
      ],
      "metadata": {
        "id": "hiBV-CLbSTJq"
      }
    },
    {
      "cell_type": "code",
      "source": [
        "! nvcc -arch=sm_75 add.cu -o add"
      ],
      "metadata": {
        "id": "1s3iDAig9Q0o"
      },
      "execution_count": 9,
      "outputs": []
    },
    {
      "cell_type": "code",
      "source": [
        "!./add"
      ],
      "metadata": {
        "colab": {
          "base_uri": "https://localhost:8080/"
        },
        "id": "zawOhWgM9jsI",
        "outputId": "863fc4f6-cfcd-4c18-9c2f-0b68af4d0ba2"
      },
      "execution_count": 10,
      "outputs": [
        {
          "output_type": "stream",
          "name": "stdout",
          "text": [
            "GPUassert: add execution failed with the error : an illegal memory access was encountered \n"
          ]
        }
      ]
    },
    {
      "cell_type": "markdown",
      "source": [
        "**Analysis**\n",
        "\n",
        "- `cudaDeviceSynchronize()` catches the error because it forces all prior operations to complete, revealing the illegal memory access.\n",
        "- The kernel `add<<<1,1>>>(2, 2, d_res);` tries to dereference `*d_res = a + b;`, leading to an illegal memory access.\n",
        "- `d_res` is a `NULL` pointer because memory was not allocated using cudaMalloc."
      ],
      "metadata": {
        "id": "A3LiJ_iDTuY8"
      }
    },
    {
      "cell_type": "markdown",
      "metadata": {
        "id": "FMP8lcgGOzPX"
      },
      "source": [
        "# CUDA error management Utilities in a separate cell\n"
      ]
    },
    {
      "cell_type": "code",
      "metadata": {
        "colab": {
          "base_uri": "https://localhost:8080/"
        },
        "id": "rQg_K9pQPZXu",
        "outputId": "19fb6959-ac8c-43d1-e5bd-1ee9837f6bc9"
      },
      "source": [
        "%%writefile cuda_stuff.cuh\n",
        "#include <stdio.h>\n",
        "#include <stdlib.h>\n",
        "#include <cuda.h>\n",
        "#include <cuda_runtime.h>\n",
        "\n",
        "#ifndef cuda_stuff_H\n",
        "#define cuda_stuff_H\n",
        "\n",
        "//MACRO TO DEBUG CUDA FUNCTIONS\n",
        "/** Error checking,\n",
        " *  taken from https://stackoverflow.com/questions/14038589/what-is-the-canonical-way-to-check-for-errors-using-the-cuda-runtime-api\n",
        " */\n",
        "#define gpuErrchk(ans) { gpuAssert((ans), __FILE__, __LINE__); }\n",
        "inline void gpuAssert(cudaError_t code, const char *file, int line, bool abort=true)\n",
        "{\n",
        "   if (code != cudaSuccess)\n",
        "   {\n",
        "      fprintf(stderr,\"GPUassert: %s %s %d\\n\", cudaGetErrorString(code), file, line);\n",
        "      if (abort) exit(code);\n",
        "   }\n",
        "}\n",
        "\n",
        "#endif"
      ],
      "execution_count": 11,
      "outputs": [
        {
          "output_type": "stream",
          "name": "stdout",
          "text": [
            "Writing cuda_stuff.cuh\n"
          ]
        }
      ]
    },
    {
      "cell_type": "code",
      "metadata": {
        "colab": {
          "base_uri": "https://localhost:8080/"
        },
        "id": "BKpKvYVTPHhz",
        "outputId": "d647922a-5771-4082-e027-36d6aecf6835"
      },
      "source": [
        "%%writefile addition.cu\n",
        "#include <stdio.h>\n",
        "#include <stdlib.h>\n",
        "\n",
        "#include \"cuda_stuff.cuh\"\n",
        "\n",
        "__global__ void add(int a, int b, int *res) {\n",
        "  *res = a + b;\n",
        "}\n",
        "\n",
        "\n",
        "int main() {\n",
        "  int res=0;\n",
        "  int *d_res = NULL;\n",
        "\n",
        "  // Launch add() kernel on GPU\n",
        "  add<<<1,1>>>(2, 2, d_res);\n",
        "  gpuErrchk( cudaPeekAtLastError() );\n",
        "  gpuErrchk( cudaDeviceSynchronize() );\n",
        "\n",
        "  gpuErrchk(cudaMemcpy(&res, d_res, sizeof(int), cudaMemcpyDeviceToHost));\n",
        "  printf(\"2 + 2 = %d\\n\", res);\n",
        "\n",
        "  return EXIT_SUCCESS;\n",
        "}"
      ],
      "execution_count": 12,
      "outputs": [
        {
          "output_type": "stream",
          "name": "stdout",
          "text": [
            "Writing addition.cu\n"
          ]
        }
      ]
    },
    {
      "cell_type": "code",
      "metadata": {
        "id": "qxP2OLarwSmo"
      },
      "source": [
        "!nvcc -arch=sm_75 addition.cu -o addition"
      ],
      "execution_count": 13,
      "outputs": []
    },
    {
      "cell_type": "code",
      "metadata": {
        "colab": {
          "base_uri": "https://localhost:8080/"
        },
        "id": "wcTDugXLViwU",
        "outputId": "825bb52c-7459-4bb1-f3d1-6095a8a0c3f4"
      },
      "source": [
        "! ./addition"
      ],
      "execution_count": 14,
      "outputs": [
        {
          "output_type": "stream",
          "name": "stdout",
          "text": [
            "GPUassert: an illegal memory access was encountered addition.cu 18\n"
          ]
        }
      ]
    },
    {
      "cell_type": "markdown",
      "source": [
        "# Error fix"
      ],
      "metadata": {
        "id": "mzGtWRRyV-oe"
      }
    },
    {
      "cell_type": "code",
      "source": [
        "%%writefile add_fixed.cu\n",
        "#include <stdio.h>\n",
        "#include <stdlib.h>\n",
        "\n",
        "__global__ void add(int a, int b, int *res) {\n",
        "  *res = a + b;\n",
        "}\n",
        "int main() {\n",
        "  int res=0;\n",
        "  int *d_res = NULL;\n",
        "\n",
        "  cudaMalloc((void**)&d_res, sizeof(int)); // fix: Allocate memory on the device\n",
        "\n",
        "  // Launch add() kernel on GPU\n",
        "  add<<<1,1>>>(2, 2, d_res);\n",
        "\n",
        "  cudaMemcpy(&res, d_res, sizeof(int), cudaMemcpyDeviceToHost);\n",
        "  printf(\"2 + 2 = %d\\n\", res);\n",
        "\n",
        "  return EXIT_SUCCESS;\n",
        "}"
      ],
      "metadata": {
        "colab": {
          "base_uri": "https://localhost:8080/"
        },
        "id": "3_XdchgTWDHr",
        "outputId": "4d258636-c5d0-417b-9385-7b22df4be021"
      },
      "execution_count": 15,
      "outputs": [
        {
          "output_type": "stream",
          "name": "stdout",
          "text": [
            "Writing add_fixed.cu\n"
          ]
        }
      ]
    },
    {
      "cell_type": "code",
      "source": [
        "!nvcc -arch=sm_75 add_fixed.cu -o add_fixed"
      ],
      "metadata": {
        "id": "9Z6QujOeWeDA"
      },
      "execution_count": 16,
      "outputs": []
    },
    {
      "cell_type": "code",
      "source": [
        "! ./add_fixed"
      ],
      "metadata": {
        "colab": {
          "base_uri": "https://localhost:8080/"
        },
        "id": "o50Zgn5PXFTL",
        "outputId": "421f2c81-8414-4d27-cc9c-a1cc026d808a"
      },
      "execution_count": 17,
      "outputs": [
        {
          "output_type": "stream",
          "name": "stdout",
          "text": [
            "2 + 2 = 4\n"
          ]
        }
      ]
    }
  ]
}