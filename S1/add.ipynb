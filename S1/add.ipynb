{
 "cells": [
  {
   "cell_type": "markdown",
   "metadata": {
    "id": "pumkepYMMsms"
   },
   "source": [
    "# Code"
   ]
  },
  {
   "cell_type": "code",
   "execution_count": 1,
   "metadata": {
    "colab": {
     "base_uri": "https://localhost:8080/"
    },
    "executionInfo": {
     "elapsed": 224,
     "status": "ok",
     "timestamp": 1737973130442,
     "user": {
      "displayName": "Nemesio Navarro",
      "userId": "13629061333826090323"
     },
     "user_tz": -60
    },
    "id": "BPJbeZDPyP8l",
    "outputId": "0151ff94-0ed8-48e3-b8a0-47632539f3c9"
   },
   "outputs": [
    {
     "name": "stdout",
     "output_type": "stream",
     "text": [
      "Writing add.cu\n"
     ]
    }
   ],
   "source": [
    "%%writefile add.cu\n",
    "#include <stdio.h>\n",
    "#include <stdlib.h>\n",
    "\n",
    "__global__ void add (int a, int b, int *res) {\n",
    "  *res = a + b;\n",
    "}\n",
    "\n",
    "int main() {\n",
    "  int res=10000;\n",
    "  int *d_res = NULL;\n",
    "\n",
    "  cudaMalloc((void**)&d_res, sizeof(int));\n",
    "\n",
    "  dim3 grid(1);\n",
    "  dim3 block(1);\n",
    "\n",
    "  // Launch add() kernel on GPU\n",
    "  add<<<grid,block>>>(2, 2, d_res);\n",
    "\n",
    "  printf(\"Before cudaMemcpy - 2 + 2 = %d\\n\", res);\n",
    "  cudaMemcpy(&res, d_res, sizeof(int), cudaMemcpyDeviceToHost);\n",
    "  printf(\"After cudaMemcpy - 2 + 2 = %d\\n\", res);\n",
    "\n",
    "  cudaFree(d_res);\n",
    "  return EXIT_SUCCESS;\n",
    "}"
   ]
  },
  {
   "cell_type": "code",
   "execution_count": null,
   "metadata": {
    "id": "AlpCErni7uCi"
   },
   "outputs": [],
   "source": [
    "! nvcc add.cu -o add"
   ]
  },
  {
   "cell_type": "code",
   "execution_count": null,
   "metadata": {
    "colab": {
     "base_uri": "https://localhost:8080/"
    },
    "executionInfo": {
     "elapsed": 10,
     "status": "ok",
     "timestamp": 1737973133602,
     "user": {
      "displayName": "Nemesio Navarro",
      "userId": "13629061333826090323"
     },
     "user_tz": -60
    },
    "id": "2QsfTiJol1fo",
    "outputId": "06159122-0090-47f4-843f-f809eeec09c0"
   },
   "outputs": [
    {
     "name": "stdout",
     "output_type": "stream",
     "text": [
      "Avant cudaMemcpy - 2 + 2 = 10000\n",
      "Après cudaMemcpy - 2 + 2 = 4\n"
     ]
    }
   ],
   "source": [
    "! ./add"
   ]
  }
 ],
 "metadata": {
  "accelerator": "GPU",
  "colab": {
   "provenance": [
    {
     "file_id": "1R9dubs2ftPPUekWgYt3JKEhjIW1a2iI8",
     "timestamp": 1737971807848
    }
   ]
  },
  "kernelspec": {
   "display_name": "base",
   "language": "python",
   "name": "python3"
  },
  "language_info": {
   "codemirror_mode": {
    "name": "ipython",
    "version": 3
   },
   "file_extension": ".py",
   "mimetype": "text/x-python",
   "name": "python",
   "nbconvert_exporter": "python",
   "pygments_lexer": "ipython3",
   "version": "3.12.2"
  }
 },
 "nbformat": 4,
 "nbformat_minor": 0
}
